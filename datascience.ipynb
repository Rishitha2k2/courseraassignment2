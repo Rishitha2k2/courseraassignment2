{
 "cells": [
  {
   "cell_type": "markdown",
   "id": "a79ef5a2",
   "metadata": {},
   "source": [
    "# About Data Science"
   ]
  },
  {
   "cell_type": "markdown",
   "id": "44cd7256",
   "metadata": {},
   "source": [
    "Data Science"
   ]
  },
  {
   "cell_type": "markdown",
   "id": "3bc46d18",
   "metadata": {},
   "source": [
    "My name is Rishitha.Currently Im pursuing Btech.My desired occupation is Data Scientist.\n",
    "Im interested in data science because of my curosity,I want to find hidden insights from data which stay unheard."
   ]
  },
  {
   "cell_type": "markdown",
   "id": "c70fb8a6",
   "metadata": {},
   "source": [
    "# Data Science Languages"
   ]
  },
  {
   "cell_type": "markdown",
   "id": "49974d8b",
   "metadata": {},
   "source": [
    " - Python\n",
    " - R\n",
    " - SQL\n",
    " - Scala\n",
    " - Java\n",
    " - C++\n",
    " - Julia\n",
    " - JavaScript\n",
    " - PHP\n",
    " - Go\n",
    " - Ruby"
   ]
  },
  {
   "cell_type": "markdown",
   "id": "eac9952a",
   "metadata": {},
   "source": [
    "# Data Science Libraries"
   ]
  },
  {
   "cell_type": "markdown",
   "id": "9e6f2ee3",
   "metadata": {},
   "source": [
    "- TensorFlow\n",
    "- NumPy\n",
    "- SciPy \n",
    "- Pandas\n",
    "- Matplotlib \n",
    "- Keras\n",
    "- SciKit-Learn\n",
    "- PyTorch\n",
    "- Scrapy\n",
    "- BeautifulSoup\n",
    "- LightGBM\n",
    "- ELI5\n",
    "- Theano\n",
    "- NuPIC\n",
    "- Ramp\n",
    "- Pipenv\n",
    "- Bob\n",
    "- PyBrain\n",
    "- Caffe2\n",
    "- Chainer"
   ]
  },
  {
   "cell_type": "markdown",
   "id": "a1a0bf7d",
   "metadata": {},
   "source": [
    "# Data Science Tools"
   ]
  },
  {
   "cell_type": "markdown",
   "id": "1109fdc8",
   "metadata": {},
   "source": [
    "- Statistical Analysis System (SAS)\n",
    "- Apache Hadoop\n",
    "- Tableau\n",
    "- TensorFlow\n",
    "- BigML\n",
    "- Knime\n",
    "- RapidMiner\n",
    "- Excel\n",
    "- Apache Flink\n",
    "- PowerBI\n",
    "- Google Analytics\n",
    "- Python\n",
    "- R (RStudio)\n",
    "- DataRobot\n",
    "- D3.js\n",
    "- Microsoft HDInsight\n",
    "- Jupyter\n",
    "- Matplotlib\n",
    "- MATLAB\n",
    "- QlikView"
   ]
  },
  {
   "cell_type": "markdown",
   "id": "ea3cf046",
   "metadata": {},
   "source": [
    "# Introducing arithmetic expressions"
   ]
  },
  {
   "cell_type": "markdown",
   "id": "ab0e4ab4",
   "metadata": {},
   "source": [
    "- (a*b)+c/d,\n",
    "- a*b+(b+c)/a"
   ]
  },
  {
   "cell_type": "markdown",
   "id": "8a8cdf0c",
   "metadata": {},
   "source": [
    "# Multiply and add numbers"
   ]
  },
  {
   "cell_type": "code",
   "execution_count": 4,
   "id": "d954229a",
   "metadata": {},
   "outputs": [
    {
     "data": {
      "text/plain": [
       "168"
      ]
     },
     "execution_count": 4,
     "metadata": {},
     "output_type": "execute_result"
    }
   ],
   "source": [
    "3*56"
   ]
  },
  {
   "cell_type": "code",
   "execution_count": 5,
   "id": "6f6a8894",
   "metadata": {},
   "outputs": [
    {
     "data": {
      "text/plain": [
       "999"
      ]
     },
     "execution_count": 5,
     "metadata": {},
     "output_type": "execute_result"
    }
   ],
   "source": [
    "123+876"
   ]
  },
  {
   "cell_type": "markdown",
   "id": "2fc7b368",
   "metadata": {},
   "source": [
    "# convert minutes to hours"
   ]
  },
  {
   "cell_type": "code",
   "execution_count": 8,
   "id": "52d0282c",
   "metadata": {},
   "outputs": [
    {
     "name": "stdout",
     "output_type": "stream",
     "text": [
      "Enter Minutes :60\n",
      "Hour : 1\n"
     ]
    }
   ],
   "source": [
    "min = int(input(\"Enter Minutes :\"))\n",
    "print(\"Hour :\", int(min/60))"
   ]
  },
  {
   "cell_type": "markdown",
   "id": "d3bbba6d",
   "metadata": {},
   "source": [
    "# Objectives"
   ]
  },
  {
   "cell_type": "markdown",
   "id": "11f522f0",
   "metadata": {},
   "source": [
    "- Collecting data,\n",
    "- Processing data,\n",
    "- Exploring and visualizing data,\n",
    "- Analyzing (data) and/or applying machine learning (to data),\n",
    "- Deciding (or planning) based on acquired insight"
   ]
  },
  {
   "cell_type": "markdown",
   "id": "d47fa102",
   "metadata": {},
   "source": [
    "Kommoju Naga Vigna Sri Laxmi Rishitha"
   ]
  },
  {
   "cell_type": "code",
   "execution_count": null,
   "id": "267b6e9d",
   "metadata": {},
   "outputs": [],
   "source": []
  }
 ],
 "metadata": {
  "kernelspec": {
   "display_name": "Python 3 (ipykernel)",
   "language": "python",
   "name": "python3"
  },
  "language_info": {
   "codemirror_mode": {
    "name": "ipython",
    "version": 3
   },
   "file_extension": ".py",
   "mimetype": "text/x-python",
   "name": "python",
   "nbconvert_exporter": "python",
   "pygments_lexer": "ipython3",
   "version": "3.10.9"
  }
 },
 "nbformat": 4,
 "nbformat_minor": 5
}
